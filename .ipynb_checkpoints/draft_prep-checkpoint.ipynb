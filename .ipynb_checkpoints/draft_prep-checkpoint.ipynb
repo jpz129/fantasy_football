{
 "cells": [
  {
   "cell_type": "markdown",
   "metadata": {},
   "source": [
    "# Fantasy Football Draft Preparation"
   ]
  },
  {
   "cell_type": "markdown",
   "metadata": {},
   "source": [
    "## *A data science approach to preparing for the 2020 fantasy football season.*"
   ]
  },
  {
   "cell_type": "markdown",
   "metadata": {},
   "source": [
    "### A little bit of background."
   ]
  },
  {
   "cell_type": "markdown",
   "metadata": {},
   "source": [
    "As a student of data science and a fan of most things football, I jumped at the chance to test out some of my newly found data science chops on optimizing my fantasy football roster.  I could just rely on projections and recommendations from fantasy football pros, but where's the fun in that?  To expand on this, there are so many sources to get projections and rankings for players, so why not use multiple sources to improve my roster?\n",
    "\n",
    "This article is intended to demonstrate the method I used to build select quarterbacks, tight-ends, wide receivers, and running backs for my fantasy football team.  I would like to stress that this is by no means the best method, or the only method, but it is a method.  "
   ]
  },
  {
   "cell_type": "code",
   "execution_count": 1,
   "metadata": {
    "collapsed": false,
    "jupyter": {
     "outputs_hidden": false
    },
    "pycharm": {
     "name": "#%%\n"
    }
   },
   "outputs": [],
   "source": [
    "import pandas as pd"
   ]
  },
  {
   "cell_type": "code",
   "execution_count": 2,
   "metadata": {
    "collapsed": false,
    "jupyter": {
     "outputs_hidden": false
    },
    "pycharm": {
     "name": "#%%\n"
    }
   },
   "outputs": [],
   "source": [
    "df = pd.read_csv(\"fant_2019.csv\")"
   ]
  },
  {
   "cell_type": "code",
   "execution_count": 3,
   "metadata": {
    "collapsed": false,
    "jupyter": {
     "outputs_hidden": false
    },
    "pycharm": {
     "name": "#%%\n"
    }
   },
   "outputs": [],
   "source": [
    "df[[\"Fantasy FantPt\", \"Fantasy PPR\", \"Fantasy DKPt\", \"Fantasy FDPt\"]] = df[[\"Fantasy FantPt\", \"Fantasy PPR\", \"Fantasy DKPt\", \"Fantasy FDPt\"]].fillna(0) # filling missing fantasy values with 0"
   ]
  },
  {
   "cell_type": "markdown",
   "metadata": {},
   "source": [
    "### The data."
   ]
  },
  {
   "cell_type": "markdown",
   "metadata": {},
   "source": [
    "The data used for this project covers the entirety of the 2019 NFL season.  Our data set comes from [Pro Football Reference](https://www.pro-football-reference.com/fantasy/index.htm) and includes the following columns:\n",
    "\n",
    "- Player: the name of the player\n",
    "- Tm: three letter abreviation for the player's team\n",
    "- FantPos: the player's position on the field\n",
    "- Games G: number of games played in the 2019 season\n",
    "- Fantasy FantPt: Pro Football Reference's official scoring method\n",
    "- Fantasy PPR: a slightly modified version of the official scoring method that includes additional scoring oppertunities\n",
    "- Fantasy DKPt: Draft Kings official scoring method\n",
    "- Fantasy FDPt: Fanduel's official scoring method"
   ]
  },
  {
   "cell_type": "code",
   "execution_count": 4,
   "metadata": {
    "collapsed": false,
    "jupyter": {
     "outputs_hidden": false
    },
    "pycharm": {
     "name": "#%%\n"
    }
   },
   "outputs": [],
   "source": [
    "df.drop(\"Fantasy VBD\", axis=1, inplace=True)"
   ]
  },
  {
   "cell_type": "code",
   "execution_count": 5,
   "metadata": {},
   "outputs": [
    {
     "data": {
      "text/html": [
       "<div>\n",
       "<style scoped>\n",
       "    .dataframe tbody tr th:only-of-type {\n",
       "        vertical-align: middle;\n",
       "    }\n",
       "\n",
       "    .dataframe tbody tr th {\n",
       "        vertical-align: top;\n",
       "    }\n",
       "\n",
       "    .dataframe thead th {\n",
       "        text-align: right;\n",
       "    }\n",
       "</style>\n",
       "<table border=\"1\" class=\"dataframe\">\n",
       "  <thead>\n",
       "    <tr style=\"text-align: right;\">\n",
       "      <th></th>\n",
       "      <th>Player</th>\n",
       "      <th>Tm</th>\n",
       "      <th>FantPos</th>\n",
       "      <th>Games G</th>\n",
       "      <th>Fantasy FantPt</th>\n",
       "      <th>Fantasy PPR</th>\n",
       "      <th>Fantasy DKPt</th>\n",
       "      <th>Fantasy FDPt</th>\n",
       "    </tr>\n",
       "  </thead>\n",
       "  <tbody>\n",
       "    <tr>\n",
       "      <th>0</th>\n",
       "      <td>Christian McCaffrey*+</td>\n",
       "      <td>CAR</td>\n",
       "      <td>RB</td>\n",
       "      <td>16</td>\n",
       "      <td>355.0</td>\n",
       "      <td>471.2</td>\n",
       "      <td>477.2</td>\n",
       "      <td>413.2</td>\n",
       "    </tr>\n",
       "    <tr>\n",
       "      <th>1</th>\n",
       "      <td>Lamar Jackson*+</td>\n",
       "      <td>BAL</td>\n",
       "      <td>QB</td>\n",
       "      <td>15</td>\n",
       "      <td>416.0</td>\n",
       "      <td>415.7</td>\n",
       "      <td>429.7</td>\n",
       "      <td>421.7</td>\n",
       "    </tr>\n",
       "    <tr>\n",
       "      <th>2</th>\n",
       "      <td>Derrick Henry*</td>\n",
       "      <td>TEN</td>\n",
       "      <td>RB</td>\n",
       "      <td>15</td>\n",
       "      <td>277.0</td>\n",
       "      <td>294.6</td>\n",
       "      <td>303.6</td>\n",
       "      <td>285.6</td>\n",
       "    </tr>\n",
       "    <tr>\n",
       "      <th>3</th>\n",
       "      <td>Aaron Jones</td>\n",
       "      <td>GNB</td>\n",
       "      <td>RB</td>\n",
       "      <td>16</td>\n",
       "      <td>266.0</td>\n",
       "      <td>314.8</td>\n",
       "      <td>322.8</td>\n",
       "      <td>290.3</td>\n",
       "    </tr>\n",
       "    <tr>\n",
       "      <th>4</th>\n",
       "      <td>Ezekiel Elliott*</td>\n",
       "      <td>DAL</td>\n",
       "      <td>RB</td>\n",
       "      <td>16</td>\n",
       "      <td>258.0</td>\n",
       "      <td>311.7</td>\n",
       "      <td>319.7</td>\n",
       "      <td>284.7</td>\n",
       "    </tr>\n",
       "  </tbody>\n",
       "</table>\n",
       "</div>"
      ],
      "text/plain": [
       "                  Player   Tm FantPos  Games G  Fantasy FantPt  Fantasy PPR  \\\n",
       "0  Christian McCaffrey*+  CAR      RB       16           355.0        471.2   \n",
       "1        Lamar Jackson*+  BAL      QB       15           416.0        415.7   \n",
       "2         Derrick Henry*  TEN      RB       15           277.0        294.6   \n",
       "3            Aaron Jones  GNB      RB       16           266.0        314.8   \n",
       "4       Ezekiel Elliott*  DAL      RB       16           258.0        311.7   \n",
       "\n",
       "   Fantasy DKPt  Fantasy FDPt  \n",
       "0         477.2         413.2  \n",
       "1         429.7         421.7  \n",
       "2         303.6         285.6  \n",
       "3         322.8         290.3  \n",
       "4         319.7         284.7  "
      ]
     },
     "execution_count": 5,
     "metadata": {},
     "output_type": "execute_result"
    }
   ],
   "source": [
    "df.head()"
   ]
  },
  {
   "cell_type": "markdown",
   "metadata": {},
   "source": [
    "### Data cleaning."
   ]
  },
  {
   "cell_type": "markdown",
   "metadata": {},
   "source": [
    "In order to properly work with our data, we must clean it and investigate it.  In other words, the data must be formatted to account for missing values, outliers, and abnormal text (this last point is more of a personal preference in context of this project).  \n",
    "\n",
    "For example, the player names should be normalized to remove the asterisks and plus signs.  Although this is not necessary, cleaning it now will allow us to make future enrichment much easier.  \n",
    "\n",
    "The first notable issue encountered in this particular data set was a high concentration of missing values.  Knowing that the data is recording fantasy football scores, the assumption was made that a player with missing scores likely did not earn any points.  We can use the pandas method `fillna()` to replace missing values within specified columns with 0.\n",
    "\n",
    "After accounting for missing values for the scores columns, the next item to consider is the player position.  A handful of players in the data set had missing values for their on-field position.  These players tended to reside at the bottom of the rankings in terms of fantasy points, so the decision was made to drop these players completely (sorry Greg Dortch)."
   ]
  },
  {
   "cell_type": "markdown",
   "metadata": {},
   "source": [
    "### A touch of feature manipulation."
   ]
  },
  {
   "cell_type": "markdown",
   "metadata": {},
   "source": [
    "Feature manipulation, or feature engineering, is the process of manipulating your data to make work better for you and machine learning models.  This is the step where having domain knowledge is crucial to improving the performance of said models.\n",
    "\n",
    "As we all know, NFL players can have 'hot' games.  As great as this is for someone with that player, these games don't come every sunday.  To try and mitigate this, we'll change our score columns.\n",
    "\n",
    "Using the games played column, we'll create new columns that take the estimate of fantasy points scored per game.  One way to do this is with a little help of a 'for' loop.  In essence, a 'for' loop lets you run code in a repetative process.  Rather than typing out each new column by hand, we can just tell Python to do it.\n",
    "\n",
    "Now we have new columns that provide us with an estimate of how many fantasy points each player scored per game they played.  We're ready to begin looking at some patterns with these new features."
   ]
  },
  {
   "cell_type": "code",
   "execution_count": 6,
   "metadata": {
    "collapsed": false,
    "jupyter": {
     "outputs_hidden": false
    },
    "pycharm": {
     "name": "#%%\n"
    }
   },
   "outputs": [],
   "source": [
    "for col in df.columns[4:]:\n",
    "    df[f\"{col} Per Game\"] = df[col] / df[\"Games G\"]\n",
    "    df.drop(col, axis=1, inplace=True) # dropping total season points after getting the per game values"
   ]
  },
  {
   "cell_type": "code",
   "execution_count": 7,
   "metadata": {
    "collapsed": false,
    "jupyter": {
     "outputs_hidden": false
    },
    "pycharm": {
     "name": "#%%\n"
    }
   },
   "outputs": [],
   "source": [
    "import re\n",
    "\n",
    "def str_fixer(text: str):\n",
    "    \"\"\"uses predetermined regex pattern to normalize text\"\"\"\n",
    "    result = re.sub(r\"[*+]\", \"\", text)\n",
    "    return result"
   ]
  },
  {
   "cell_type": "code",
   "execution_count": 8,
   "metadata": {
    "collapsed": false,
    "jupyter": {
     "outputs_hidden": false
    },
    "pycharm": {
     "name": "#%%\n"
    }
   },
   "outputs": [],
   "source": [
    "df = df[df[\"FantPos\"].isna() == False]"
   ]
  },
  {
   "cell_type": "code",
   "execution_count": 9,
   "metadata": {
    "jupyter": {
     "source_hidden": true
    },
    "pycharm": {
     "name": "#%%\n"
    }
   },
   "outputs": [
    {
     "name": "stdout",
     "output_type": "stream",
     "text": [
      "<class 'pandas.core.frame.DataFrame'>\n",
      "Int64Index: 557 entries, 0 to 618\n",
      "Data columns (total 8 columns):\n",
      " #   Column                   Non-Null Count  Dtype  \n",
      "---  ------                   --------------  -----  \n",
      " 0   Player                   557 non-null    object \n",
      " 1   Tm                       557 non-null    object \n",
      " 2   FantPos                  557 non-null    object \n",
      " 3   Games G                  557 non-null    int64  \n",
      " 4   Fantasy FantPt Per Game  557 non-null    float64\n",
      " 5   Fantasy PPR Per Game     557 non-null    float64\n",
      " 6   Fantasy DKPt Per Game    557 non-null    float64\n",
      " 7   Fantasy FDPt Per Game    557 non-null    float64\n",
      "dtypes: float64(4), int64(1), object(3)\n",
      "memory usage: 39.2+ KB\n"
     ]
    }
   ],
   "source": [
    "df.info()"
   ]
  },
  {
   "cell_type": "markdown",
   "metadata": {},
   "source": [
    "- looks like our data was read in as needed"
   ]
  },
  {
   "cell_type": "code",
   "execution_count": 10,
   "metadata": {
    "pycharm": {
     "name": "#%%\n"
    }
   },
   "outputs": [
    {
     "data": {
      "text/html": [
       "<div>\n",
       "<style scoped>\n",
       "    .dataframe tbody tr th:only-of-type {\n",
       "        vertical-align: middle;\n",
       "    }\n",
       "\n",
       "    .dataframe tbody tr th {\n",
       "        vertical-align: top;\n",
       "    }\n",
       "\n",
       "    .dataframe thead th {\n",
       "        text-align: right;\n",
       "    }\n",
       "</style>\n",
       "<table border=\"1\" class=\"dataframe\">\n",
       "  <thead>\n",
       "    <tr style=\"text-align: right;\">\n",
       "      <th></th>\n",
       "      <th>Games G</th>\n",
       "      <th>Fantasy FantPt Per Game</th>\n",
       "      <th>Fantasy PPR Per Game</th>\n",
       "      <th>Fantasy DKPt Per Game</th>\n",
       "      <th>Fantasy FDPt Per Game</th>\n",
       "    </tr>\n",
       "  </thead>\n",
       "  <tbody>\n",
       "    <tr>\n",
       "      <th>count</th>\n",
       "      <td>557.000000</td>\n",
       "      <td>557.000000</td>\n",
       "      <td>557.000000</td>\n",
       "      <td>557.000000</td>\n",
       "      <td>557.000000</td>\n",
       "    </tr>\n",
       "    <tr>\n",
       "      <th>mean</th>\n",
       "      <td>11.210054</td>\n",
       "      <td>4.758135</td>\n",
       "      <td>6.342174</td>\n",
       "      <td>6.681277</td>\n",
       "      <td>5.625549</td>\n",
       "    </tr>\n",
       "    <tr>\n",
       "      <th>std</th>\n",
       "      <td>4.868860</td>\n",
       "      <td>4.945777</td>\n",
       "      <td>5.770024</td>\n",
       "      <td>6.008850</td>\n",
       "      <td>5.412345</td>\n",
       "    </tr>\n",
       "    <tr>\n",
       "      <th>min</th>\n",
       "      <td>1.000000</td>\n",
       "      <td>-2.000000</td>\n",
       "      <td>-1.400000</td>\n",
       "      <td>-0.400000</td>\n",
       "      <td>-1.900000</td>\n",
       "    </tr>\n",
       "    <tr>\n",
       "      <th>25%</th>\n",
       "      <td>7.000000</td>\n",
       "      <td>0.937500</td>\n",
       "      <td>1.566667</td>\n",
       "      <td>1.627273</td>\n",
       "      <td>1.250000</td>\n",
       "    </tr>\n",
       "    <tr>\n",
       "      <th>50%</th>\n",
       "      <td>13.000000</td>\n",
       "      <td>3.000000</td>\n",
       "      <td>4.453846</td>\n",
       "      <td>4.881250</td>\n",
       "      <td>3.780000</td>\n",
       "    </tr>\n",
       "    <tr>\n",
       "      <th>75%</th>\n",
       "      <td>16.000000</td>\n",
       "      <td>7.642857</td>\n",
       "      <td>10.221429</td>\n",
       "      <td>10.618750</td>\n",
       "      <td>9.043750</td>\n",
       "    </tr>\n",
       "    <tr>\n",
       "      <th>max</th>\n",
       "      <td>17.000000</td>\n",
       "      <td>27.733333</td>\n",
       "      <td>29.450000</td>\n",
       "      <td>29.825000</td>\n",
       "      <td>28.113333</td>\n",
       "    </tr>\n",
       "  </tbody>\n",
       "</table>\n",
       "</div>"
      ],
      "text/plain": [
       "          Games G  Fantasy FantPt Per Game  Fantasy PPR Per Game  \\\n",
       "count  557.000000               557.000000            557.000000   \n",
       "mean    11.210054                 4.758135              6.342174   \n",
       "std      4.868860                 4.945777              5.770024   \n",
       "min      1.000000                -2.000000             -1.400000   \n",
       "25%      7.000000                 0.937500              1.566667   \n",
       "50%     13.000000                 3.000000              4.453846   \n",
       "75%     16.000000                 7.642857             10.221429   \n",
       "max     17.000000                27.733333             29.450000   \n",
       "\n",
       "       Fantasy DKPt Per Game  Fantasy FDPt Per Game  \n",
       "count             557.000000             557.000000  \n",
       "mean                6.681277               5.625549  \n",
       "std                 6.008850               5.412345  \n",
       "min                -0.400000              -1.900000  \n",
       "25%                 1.627273               1.250000  \n",
       "50%                 4.881250               3.780000  \n",
       "75%                10.618750               9.043750  \n",
       "max                29.825000              28.113333  "
      ]
     },
     "execution_count": 10,
     "metadata": {},
     "output_type": "execute_result"
    }
   ],
   "source": [
    "df.describe()"
   ]
  },
  {
   "cell_type": "markdown",
   "metadata": {},
   "source": [
    "- draft kings gives out higher fantasy scores\n",
    "- fantasy vbd is the lowest, but the values are not as varied and there are no negative scores (not the case for the others)\n",
    "    - i should see what this is\n",
    "- all fantasy scores appear to be right-skewed\n",
    "    - probably since some players are much better than others"
   ]
  },
  {
   "cell_type": "code",
   "execution_count": 11,
   "metadata": {
    "collapsed": false,
    "jupyter": {
     "outputs_hidden": false
    },
    "pycharm": {
     "name": "#%%\n"
    }
   },
   "outputs": [],
   "source": [
    "import matplotlib.pyplot as plt\n",
    "import matplotlib.style as style\n",
    "style.use(\"fivethirtyeight\")\n",
    "import seaborn as sns"
   ]
  },
  {
   "cell_type": "code",
   "execution_count": 12,
   "metadata": {
    "collapsed": false,
    "jupyter": {
     "outputs_hidden": false
    },
    "pycharm": {
     "name": "#%%\n"
    }
   },
   "outputs": [
    {
     "data": {
      "text/plain": [
       "<matplotlib.axes._subplots.AxesSubplot at 0x219910ab108>"
      ]
     },
     "execution_count": 12,
     "metadata": {},
     "output_type": "execute_result"
    },
    {
     "data": {
      "image/png": "[encoded data removed]",
      "text/plain": [
       "<Figure size 432x288 with 2 Axes>"
      ]
     },
     "metadata": {},
     "output_type": "display_data"
    }
   ],
   "source": [
    "sns.heatmap(df.isna())"
   ]
  },
  {
   "cell_type": "markdown",
   "metadata": {},
   "source": [
    "- might consider dropping Fantasy VBD since there are so many missing values\n",
    "- should also investigate rows where position is missing\n",
    "- for missing fantasy values, we'll input 0\n",
    "    - the assumption is that if there is no data here, the players did not score any points, justifying a 0"
   ]
  },
  {
   "cell_type": "code",
   "execution_count": 13,
   "metadata": {
    "collapsed": false,
    "jupyter": {
     "outputs_hidden": false
    },
    "pycharm": {
     "name": "#%%\n"
    }
   },
   "outputs": [
    {
     "data": {
      "text/plain": [
       "<matplotlib.axes._subplots.AxesSubplot at 0x2199185eb08>"
      ]
     },
     "execution_count": 13,
     "metadata": {},
     "output_type": "execute_result"
    },
    {
     "data": {
      "image/png": "[encoded data removed]",
      "text/plain": [
       "<Figure size 432x288 with 2 Axes>"
      ]
     },
     "metadata": {},
     "output_type": "display_data"
    }
   ],
   "source": [
    "sns.heatmap(df.isna())"
   ]
  },
  {
   "cell_type": "markdown",
   "metadata": {},
   "source": [
    "- fantasy scores are now filled"
   ]
  },
  {
   "cell_type": "code",
   "execution_count": 14,
   "metadata": {
    "collapsed": false,
    "jupyter": {
     "outputs_hidden": false
    },
    "pycharm": {
     "name": "#%%\n"
    }
   },
   "outputs": [
    {
     "data": {
      "text/html": [
       "<div>\n",
       "<style scoped>\n",
       "    .dataframe tbody tr th:only-of-type {\n",
       "        vertical-align: middle;\n",
       "    }\n",
       "\n",
       "    .dataframe tbody tr th {\n",
       "        vertical-align: top;\n",
       "    }\n",
       "\n",
       "    .dataframe thead th {\n",
       "        text-align: right;\n",
       "    }\n",
       "</style>\n",
       "<table border=\"1\" class=\"dataframe\">\n",
       "  <thead>\n",
       "    <tr style=\"text-align: right;\">\n",
       "      <th></th>\n",
       "      <th>Player</th>\n",
       "      <th>Tm</th>\n",
       "      <th>FantPos</th>\n",
       "      <th>Games G</th>\n",
       "      <th>Fantasy FantPt Per Game</th>\n",
       "      <th>Fantasy PPR Per Game</th>\n",
       "      <th>Fantasy DKPt Per Game</th>\n",
       "      <th>Fantasy FDPt Per Game</th>\n",
       "    </tr>\n",
       "  </thead>\n",
       "  <tbody>\n",
       "  </tbody>\n",
       "</table>\n",
       "</div>"
      ],
      "text/plain": [
       "Empty DataFrame\n",
       "Columns: [Player, Tm, FantPos, Games G, Fantasy FantPt Per Game, Fantasy PPR Per Game, Fantasy DKPt Per Game, Fantasy FDPt Per Game]\n",
       "Index: []"
      ]
     },
     "execution_count": 14,
     "metadata": {},
     "output_type": "execute_result"
    }
   ],
   "source": [
    "df[df[\"FantPos\"].isna()]"
   ]
  },
  {
   "cell_type": "markdown",
   "metadata": {},
   "source": [
    "- dropping players with no position"
   ]
  },
  {
   "cell_type": "code",
   "execution_count": 15,
   "metadata": {
    "collapsed": false,
    "jupyter": {
     "outputs_hidden": false
    },
    "pycharm": {
     "name": "#%%\n"
    }
   },
   "outputs": [],
   "source": [
    "# df.drop(\"Fantasy VBD\", axis=1, inplace=True) # dropping vbd column"
   ]
  },
  {
   "cell_type": "code",
   "execution_count": 16,
   "metadata": {
    "collapsed": false,
    "jupyter": {
     "outputs_hidden": false
    },
    "pycharm": {
     "name": "#%%\n"
    }
   },
   "outputs": [
    {
     "data": {
      "text/html": [
       "<div>\n",
       "<style scoped>\n",
       "    .dataframe tbody tr th:only-of-type {\n",
       "        vertical-align: middle;\n",
       "    }\n",
       "\n",
       "    .dataframe tbody tr th {\n",
       "        vertical-align: top;\n",
       "    }\n",
       "\n",
       "    .dataframe thead th {\n",
       "        text-align: right;\n",
       "    }\n",
       "</style>\n",
       "<table border=\"1\" class=\"dataframe\">\n",
       "  <thead>\n",
       "    <tr style=\"text-align: right;\">\n",
       "      <th></th>\n",
       "      <th>Player</th>\n",
       "      <th>Tm</th>\n",
       "      <th>FantPos</th>\n",
       "      <th>Games G</th>\n",
       "      <th>Fantasy FantPt Per Game</th>\n",
       "      <th>Fantasy PPR Per Game</th>\n",
       "      <th>Fantasy DKPt Per Game</th>\n",
       "      <th>Fantasy FDPt Per Game</th>\n",
       "    </tr>\n",
       "  </thead>\n",
       "  <tbody>\n",
       "    <tr>\n",
       "      <th>0</th>\n",
       "      <td>Christian McCaffrey*+</td>\n",
       "      <td>CAR</td>\n",
       "      <td>RB</td>\n",
       "      <td>16</td>\n",
       "      <td>22.187500</td>\n",
       "      <td>29.450000</td>\n",
       "      <td>29.825000</td>\n",
       "      <td>25.825000</td>\n",
       "    </tr>\n",
       "    <tr>\n",
       "      <th>1</th>\n",
       "      <td>Lamar Jackson*+</td>\n",
       "      <td>BAL</td>\n",
       "      <td>QB</td>\n",
       "      <td>15</td>\n",
       "      <td>27.733333</td>\n",
       "      <td>27.713333</td>\n",
       "      <td>28.646667</td>\n",
       "      <td>28.113333</td>\n",
       "    </tr>\n",
       "    <tr>\n",
       "      <th>2</th>\n",
       "      <td>Derrick Henry*</td>\n",
       "      <td>TEN</td>\n",
       "      <td>RB</td>\n",
       "      <td>15</td>\n",
       "      <td>18.466667</td>\n",
       "      <td>19.640000</td>\n",
       "      <td>20.240000</td>\n",
       "      <td>19.040000</td>\n",
       "    </tr>\n",
       "    <tr>\n",
       "      <th>3</th>\n",
       "      <td>Aaron Jones</td>\n",
       "      <td>GNB</td>\n",
       "      <td>RB</td>\n",
       "      <td>16</td>\n",
       "      <td>16.625000</td>\n",
       "      <td>19.675000</td>\n",
       "      <td>20.175000</td>\n",
       "      <td>18.143750</td>\n",
       "    </tr>\n",
       "    <tr>\n",
       "      <th>4</th>\n",
       "      <td>Ezekiel Elliott*</td>\n",
       "      <td>DAL</td>\n",
       "      <td>RB</td>\n",
       "      <td>16</td>\n",
       "      <td>16.125000</td>\n",
       "      <td>19.481250</td>\n",
       "      <td>19.981250</td>\n",
       "      <td>17.793750</td>\n",
       "    </tr>\n",
       "  </tbody>\n",
       "</table>\n",
       "</div>"
      ],
      "text/plain": [
       "                  Player   Tm FantPos  Games G  Fantasy FantPt Per Game  \\\n",
       "0  Christian McCaffrey*+  CAR      RB       16                22.187500   \n",
       "1        Lamar Jackson*+  BAL      QB       15                27.733333   \n",
       "2         Derrick Henry*  TEN      RB       15                18.466667   \n",
       "3            Aaron Jones  GNB      RB       16                16.625000   \n",
       "4       Ezekiel Elliott*  DAL      RB       16                16.125000   \n",
       "\n",
       "   Fantasy PPR Per Game  Fantasy DKPt Per Game  Fantasy FDPt Per Game  \n",
       "0             29.450000              29.825000              25.825000  \n",
       "1             27.713333              28.646667              28.113333  \n",
       "2             19.640000              20.240000              19.040000  \n",
       "3             19.675000              20.175000              18.143750  \n",
       "4             19.481250              19.981250              17.793750  "
      ]
     },
     "execution_count": 16,
     "metadata": {},
     "output_type": "execute_result"
    }
   ],
   "source": [
    "df.head()"
   ]
  },
  {
   "cell_type": "code",
   "execution_count": 17,
   "metadata": {
    "collapsed": false,
    "jupyter": {
     "outputs_hidden": false
    },
    "pycharm": {
     "name": "#%%\n"
    }
   },
   "outputs": [
    {
     "data": {
      "text/plain": [
       "<matplotlib.axes._subplots.AxesSubplot at 0x2199195b648>"
      ]
     },
     "execution_count": 17,
     "metadata": {},
     "output_type": "execute_result"
    },
    {
     "data": {
      "image/png": "[encoded data removed]",
      "text/plain": [
       "<Figure size 432x288 with 2 Axes>"
      ]
     },
     "metadata": {},
     "output_type": "display_data"
    }
   ],
   "source": [
    "sns.heatmap(df.isna())"
   ]
  },
  {
   "cell_type": "markdown",
   "metadata": {},
   "source": [
    "- all values are filled"
   ]
  },
  {
   "cell_type": "code",
   "execution_count": 18,
   "metadata": {
    "collapsed": false,
    "jupyter": {
     "outputs_hidden": false
    },
    "pycharm": {
     "name": "#%%\n"
    }
   },
   "outputs": [],
   "source": [
    "df[\"Player\"] = df[\"Player\"].apply(str_fixer)"
   ]
  },
  {
   "cell_type": "code",
   "execution_count": 19,
   "metadata": {
    "collapsed": false,
    "jupyter": {
     "outputs_hidden": false
    },
    "pycharm": {
     "name": "#%%\n"
    }
   },
   "outputs": [
    {
     "data": {
      "text/html": [
       "<div>\n",
       "<style scoped>\n",
       "    .dataframe tbody tr th:only-of-type {\n",
       "        vertical-align: middle;\n",
       "    }\n",
       "\n",
       "    .dataframe tbody tr th {\n",
       "        vertical-align: top;\n",
       "    }\n",
       "\n",
       "    .dataframe thead th {\n",
       "        text-align: right;\n",
       "    }\n",
       "</style>\n",
       "<table border=\"1\" class=\"dataframe\">\n",
       "  <thead>\n",
       "    <tr style=\"text-align: right;\">\n",
       "      <th></th>\n",
       "      <th>Player</th>\n",
       "      <th>Tm</th>\n",
       "      <th>FantPos</th>\n",
       "      <th>Games G</th>\n",
       "      <th>Fantasy FantPt Per Game</th>\n",
       "      <th>Fantasy PPR Per Game</th>\n",
       "      <th>Fantasy DKPt Per Game</th>\n",
       "      <th>Fantasy FDPt Per Game</th>\n",
       "    </tr>\n",
       "  </thead>\n",
       "  <tbody>\n",
       "    <tr>\n",
       "      <th>0</th>\n",
       "      <td>Christian McCaffrey</td>\n",
       "      <td>CAR</td>\n",
       "      <td>RB</td>\n",
       "      <td>16</td>\n",
       "      <td>22.187500</td>\n",
       "      <td>29.450000</td>\n",
       "      <td>29.825000</td>\n",
       "      <td>25.825000</td>\n",
       "    </tr>\n",
       "    <tr>\n",
       "      <th>1</th>\n",
       "      <td>Lamar Jackson</td>\n",
       "      <td>BAL</td>\n",
       "      <td>QB</td>\n",
       "      <td>15</td>\n",
       "      <td>27.733333</td>\n",
       "      <td>27.713333</td>\n",
       "      <td>28.646667</td>\n",
       "      <td>28.113333</td>\n",
       "    </tr>\n",
       "    <tr>\n",
       "      <th>2</th>\n",
       "      <td>Derrick Henry</td>\n",
       "      <td>TEN</td>\n",
       "      <td>RB</td>\n",
       "      <td>15</td>\n",
       "      <td>18.466667</td>\n",
       "      <td>19.640000</td>\n",
       "      <td>20.240000</td>\n",
       "      <td>19.040000</td>\n",
       "    </tr>\n",
       "    <tr>\n",
       "      <th>3</th>\n",
       "      <td>Aaron Jones</td>\n",
       "      <td>GNB</td>\n",
       "      <td>RB</td>\n",
       "      <td>16</td>\n",
       "      <td>16.625000</td>\n",
       "      <td>19.675000</td>\n",
       "      <td>20.175000</td>\n",
       "      <td>18.143750</td>\n",
       "    </tr>\n",
       "    <tr>\n",
       "      <th>4</th>\n",
       "      <td>Ezekiel Elliott</td>\n",
       "      <td>DAL</td>\n",
       "      <td>RB</td>\n",
       "      <td>16</td>\n",
       "      <td>16.125000</td>\n",
       "      <td>19.481250</td>\n",
       "      <td>19.981250</td>\n",
       "      <td>17.793750</td>\n",
       "    </tr>\n",
       "  </tbody>\n",
       "</table>\n",
       "</div>"
      ],
      "text/plain": [
       "                Player   Tm FantPos  Games G  Fantasy FantPt Per Game  \\\n",
       "0  Christian McCaffrey  CAR      RB       16                22.187500   \n",
       "1        Lamar Jackson  BAL      QB       15                27.733333   \n",
       "2        Derrick Henry  TEN      RB       15                18.466667   \n",
       "3          Aaron Jones  GNB      RB       16                16.625000   \n",
       "4      Ezekiel Elliott  DAL      RB       16                16.125000   \n",
       "\n",
       "   Fantasy PPR Per Game  Fantasy DKPt Per Game  Fantasy FDPt Per Game  \n",
       "0             29.450000              29.825000              25.825000  \n",
       "1             27.713333              28.646667              28.113333  \n",
       "2             19.640000              20.240000              19.040000  \n",
       "3             19.675000              20.175000              18.143750  \n",
       "4             19.481250              19.981250              17.793750  "
      ]
     },
     "execution_count": 19,
     "metadata": {},
     "output_type": "execute_result"
    }
   ],
   "source": [
    "df.head()"
   ]
  },
  {
   "cell_type": "markdown",
   "metadata": {},
   "source": [
    "- text is normalized"
   ]
  },
  {
   "cell_type": "code",
   "execution_count": 20,
   "metadata": {
    "collapsed": false,
    "jupyter": {
     "outputs_hidden": false
    },
    "pycharm": {
     "name": "#%%\n"
    }
   },
   "outputs": [
    {
     "data": {
      "text/html": [
       "<div>\n",
       "<style scoped>\n",
       "    .dataframe tbody tr th:only-of-type {\n",
       "        vertical-align: middle;\n",
       "    }\n",
       "\n",
       "    .dataframe tbody tr th {\n",
       "        vertical-align: top;\n",
       "    }\n",
       "\n",
       "    .dataframe thead th {\n",
       "        text-align: right;\n",
       "    }\n",
       "</style>\n",
       "<table border=\"1\" class=\"dataframe\">\n",
       "  <thead>\n",
       "    <tr style=\"text-align: right;\">\n",
       "      <th></th>\n",
       "      <th>Player</th>\n",
       "      <th>Tm</th>\n",
       "      <th>FantPos</th>\n",
       "      <th>Games G</th>\n",
       "      <th>Fantasy FantPt Per Game</th>\n",
       "      <th>Fantasy PPR Per Game</th>\n",
       "      <th>Fantasy DKPt Per Game</th>\n",
       "      <th>Fantasy FDPt Per Game</th>\n",
       "    </tr>\n",
       "  </thead>\n",
       "  <tbody>\n",
       "    <tr>\n",
       "      <th>0</th>\n",
       "      <td>Christian McCaffrey</td>\n",
       "      <td>CAR</td>\n",
       "      <td>RB</td>\n",
       "      <td>16</td>\n",
       "      <td>22.187500</td>\n",
       "      <td>29.450000</td>\n",
       "      <td>29.825000</td>\n",
       "      <td>25.825000</td>\n",
       "    </tr>\n",
       "    <tr>\n",
       "      <th>1</th>\n",
       "      <td>Lamar Jackson</td>\n",
       "      <td>BAL</td>\n",
       "      <td>QB</td>\n",
       "      <td>15</td>\n",
       "      <td>27.733333</td>\n",
       "      <td>27.713333</td>\n",
       "      <td>28.646667</td>\n",
       "      <td>28.113333</td>\n",
       "    </tr>\n",
       "    <tr>\n",
       "      <th>2</th>\n",
       "      <td>Derrick Henry</td>\n",
       "      <td>TEN</td>\n",
       "      <td>RB</td>\n",
       "      <td>15</td>\n",
       "      <td>18.466667</td>\n",
       "      <td>19.640000</td>\n",
       "      <td>20.240000</td>\n",
       "      <td>19.040000</td>\n",
       "    </tr>\n",
       "    <tr>\n",
       "      <th>3</th>\n",
       "      <td>Aaron Jones</td>\n",
       "      <td>GNB</td>\n",
       "      <td>RB</td>\n",
       "      <td>16</td>\n",
       "      <td>16.625000</td>\n",
       "      <td>19.675000</td>\n",
       "      <td>20.175000</td>\n",
       "      <td>18.143750</td>\n",
       "    </tr>\n",
       "    <tr>\n",
       "      <th>4</th>\n",
       "      <td>Ezekiel Elliott</td>\n",
       "      <td>DAL</td>\n",
       "      <td>RB</td>\n",
       "      <td>16</td>\n",
       "      <td>16.125000</td>\n",
       "      <td>19.481250</td>\n",
       "      <td>19.981250</td>\n",
       "      <td>17.793750</td>\n",
       "    </tr>\n",
       "  </tbody>\n",
       "</table>\n",
       "</div>"
      ],
      "text/plain": [
       "                Player   Tm FantPos  Games G  Fantasy FantPt Per Game  \\\n",
       "0  Christian McCaffrey  CAR      RB       16                22.187500   \n",
       "1        Lamar Jackson  BAL      QB       15                27.733333   \n",
       "2        Derrick Henry  TEN      RB       15                18.466667   \n",
       "3          Aaron Jones  GNB      RB       16                16.625000   \n",
       "4      Ezekiel Elliott  DAL      RB       16                16.125000   \n",
       "\n",
       "   Fantasy PPR Per Game  Fantasy DKPt Per Game  Fantasy FDPt Per Game  \n",
       "0             29.450000              29.825000              25.825000  \n",
       "1             27.713333              28.646667              28.113333  \n",
       "2             19.640000              20.240000              19.040000  \n",
       "3             19.675000              20.175000              18.143750  \n",
       "4             19.481250              19.981250              17.793750  "
      ]
     },
     "execution_count": 20,
     "metadata": {},
     "output_type": "execute_result"
    }
   ],
   "source": [
    "df.head()"
   ]
  },
  {
   "cell_type": "markdown",
   "metadata": {},
   "source": [
    "- created fantasy metrics per game\n",
    "- trying to get a better idea of per game performance instead of overall season performance"
   ]
  },
  {
   "cell_type": "markdown",
   "metadata": {},
   "source": [
    "### Visualization."
   ]
  },
  {
   "cell_type": "markdown",
   "metadata": {},
   "source": [
    "Let's take a look and see just how our scoring services dish out their ratings."
   ]
  },
  {
   "cell_type": "code",
   "execution_count": 21,
   "metadata": {
    "collapsed": false,
    "jupyter": {
     "outputs_hidden": false
    },
    "pycharm": {
     "name": "#%%\n"
    }
   },
   "outputs": [
    {
     "data": {
      "image/png": "[encoded data removed]",
      "text/plain": [
       "<Figure size 1440x720 with 1 Axes>"
      ]
     },
     "metadata": {},
     "output_type": "display_data"
    }
   ],
   "source": [
    "plt.figure(figsize=(20,10))\n",
    "sns.kdeplot(df[\"Fantasy FantPt Per Game\"], label=\"Fantasy Points (Pro Football Reference)\")\n",
    "sns.kdeplot(df[\"Fantasy DKPt Per Game\"], label=\"Draft Kings\")\n",
    "sns.kdeplot(df[\"Fantasy FDPt Per Game\"], label=\"Fanduel\")\n",
    "sns.kdeplot(df[\"Fantasy PPR Per Game\"], label=\"PPR Fantasy Points (Pro Football Reference)\")\n",
    "plt.xlabel(\"Points per Game\")\n",
    "plt.ylabel(\"Probability\")\n",
    "plt.title(\"Distribution of Points per Game by Source and Method\")\n",
    "plt.savefig('plot.png', dpi=300, bbox_inches='tight')"
   ]
  },
  {
   "cell_type": "markdown",
   "metadata": {},
   "source": [
    "The first thing to notice here is the asymetrical nature of the plot above.  Notice how the four peaks are right around the 2-3 point range?  This tells us that a lot of the players in our data set fall into this category.  This makes sense since our high-scoring players are not the majority.  \n",
    "\n",
    "The main take-away from this chart is that the four sources include in this project do not agree on how to score points, or they simply have different methods of scoring.  But what does this mean for the average fantasy football enthusiast?  It means that it can make choosing the right players very confusing and costly depending on the source you're looking at.  \n",
    "\n",
    "But there is another way, we can use the power of data science!  Rather than looking at only one of these sources or scouring the internet manually, why not group players based on a variety of scores?  "
   ]
  },
  {
   "cell_type": "markdown",
   "metadata": {},
   "source": [
    "- all distributions are right-skewed\n",
    "- draft kings awards higher points\n",
    "- fanduel and ppr method score moderately\n",
    "- standard fantasy points is the least generous"
   ]
  },
  {
   "cell_type": "markdown",
   "metadata": {
    "pycharm": {
     "name": "#%% md\n"
    }
   },
   "source": [
    "## Modeling\n",
    "\n"
   ]
  },
  {
   "cell_type": "markdown",
   "metadata": {},
   "source": [
    "As mentioned above, the goal here is to group players based on a variety of scores.  This sounds like a classic clustering problem.\n",
    "\n",
    "Cluster analysis, or cluster modeling, is the method of gathering objects that are similar into groups.  For example, say we have a sample of NBA players and a sample of elementary school students.  One thing we could do to differentiate the students from the NBA players is to record their heights.  As we all know, NBA players are much taller than first graders (don't quote me on this), making height a good metric to classify students vs. NBA players.\n",
    "\n",
    "However, in our example above, we know that there are two groups, students and NBA players.  We need to use an unsupervised method to determine how many groups or tiers exist within our data.  To do this, we'll use a K-means algorithm.\n",
    "\n",
    "To get a better understanding of what the K-means algorithm does, I'll refer to an article from [Dr. Michael J. Garbade](https://towardsdatascience.com/understanding-k-means-clustering-in-machine-learning-6a6e67336aa1).  \n",
    "\n",
    "- We define the number of clusters (commonly denoted as $k$) which refers to the number of centroids (a centroid represents the center of a given cluster or group)\n",
    "- Data points are assigned to the clusters by reducing the in-cluster sum of squares\n",
    "- The process repeats until clusters have been minimized\n",
    "\n",
    "To wrap this back to our student vs. NBA player example, we know that we have two groups here.  For this case, we would assign the K-means alogrithm with a value of two (AKA: two groups).  Due to the signficant size gap between 8 year olds and 20-something year old professional athletes, our two centroids would fall somewhere around the average for each group.  Just to be safe though, the algorithm measures the distance between each person and the centroid to adjust to the optimal location (in essence).\n",
    "\n",
    "So then how do we do this?  And also, how many clusters should we create?\n",
    "\n",
    "One way we can determine the optimum number of clusters is by using the ['Elbow Method'](https://www.geeksforgeeks.org/elbow-method-for-optimal-value-of-k-in-kmeans/).  The 'Elbow Method' compares the in-cluster sum of squares accross different centroid configurations.  Basically, it helps us determine how many clusters we should create.  \n",
    "\n",
    "We can use a 'for' loop again to our advantage by testing out a list of different cluster options and plotting them.  By looking at the figure below, you can see why this is called the 'Elbow Method'.   \n"
   ]
  },
  {
   "cell_type": "code",
   "execution_count": 22,
   "metadata": {
    "collapsed": false,
    "jupyter": {
     "outputs_hidden": false
    },
    "pycharm": {
     "name": "#%%\n"
    }
   },
   "outputs": [],
   "source": [
    "from sklearn.cluster import KMeans"
   ]
  },
  {
   "cell_type": "code",
   "execution_count": 23,
   "metadata": {
    "collapsed": false,
    "jupyter": {
     "outputs_hidden": false
    },
    "pycharm": {
     "name": "#%%\n"
    }
   },
   "outputs": [],
   "source": [
    "kmeans = KMeans()"
   ]
  },
  {
   "cell_type": "code",
   "execution_count": 33,
   "metadata": {
    "collapsed": false,
    "jupyter": {
     "outputs_hidden": false
    },
    "pycharm": {
     "name": "#%%\n"
    }
   },
   "outputs": [
    {
     "data": {
      "image/png": "[encoded data removed]",
      "text/plain": [
       "<Figure size 1440x720 with 1 Axes>"
      ]
     },
     "metadata": {},
     "output_type": "display_data"
    }
   ],
   "source": [
    "X = df[[\"Fantasy FantPt Per Game\", \"Fantasy PPR Per Game\", \"Fantasy DKPt Per Game\", \"Fantasy FDPt Per Game\"]]\n",
    "distortions = []\n",
    "K = range(1,10)\n",
    "for k in K:\n",
    "    kmeanModel = KMeans(n_clusters=k)\n",
    "    kmeanModel.fit(X)\n",
    "    distortions.append(kmeanModel.inertia_)\n",
    "\n",
    "plt.figure(figsize=(20,10))\n",
    "plt.plot(K, distortions, 'bx-')\n",
    "plt.xlabel('k')\n",
    "plt.ylabel('Distortion')\n",
    "plt.title('The Elbow Method showing the optimal k')\n",
    "plt.savefig('plot2.png', dpi=300, bbox_inches='tight')"
   ]
  },
  {
   "cell_type": "markdown",
   "metadata": {},
   "source": [
    "Notice how the y-axis says 'Distortion'?  This is another way to say 'distance from the centroid or cluster average'.  As we see above, the plot looks very similar to an elbow.  We can use this to determine how many centroids (k on the x-axis) we should include in our model.  Five looks to be a pretty good fit since there is no real benefit in reducing distortion as we increase $k$.  \n",
    "\n",
    "Now that we have our desired number of clusters and our model is fit, we can begin to see who I should pick up in the draft!  To help out with this, we'll add a column to our data that provides the group, or cluster, that each player belongs to."
   ]
  },
  {
   "cell_type": "code",
   "execution_count": 53,
   "metadata": {
    "collapsed": false,
    "jupyter": {
     "outputs_hidden": false
    },
    "pycharm": {
     "name": "#%%\n"
    }
   },
   "outputs": [],
   "source": [
    "kmeans = KMeans(n_clusters=5, random_state=1)\n",
    "kmeans.fit(X)\n",
    "tiers = kmeans.labels_"
   ]
  },
  {
   "cell_type": "code",
   "execution_count": 54,
   "metadata": {
    "collapsed": false,
    "jupyter": {
     "outputs_hidden": false
    },
    "pycharm": {
     "name": "#%%\n"
    }
   },
   "outputs": [],
   "source": [
    "df[\"tier\"] = tiers"
   ]
  },
  {
   "cell_type": "code",
   "execution_count": 55,
   "metadata": {
    "collapsed": false,
    "jupyter": {
     "outputs_hidden": false
    },
    "pycharm": {
     "name": "#%%\n"
    }
   },
   "outputs": [],
   "source": [
    "df[\"mean points\"] = df[[\"Fantasy FantPt Per Game\", \"Fantasy PPR Per Game\", \"Fantasy DKPt Per Game\", \"Fantasy FDPt Per Game\"]].mean(axis=1)"
   ]
  },
  {
   "cell_type": "code",
   "execution_count": 56,
   "metadata": {
    "collapsed": false,
    "jupyter": {
     "outputs_hidden": false
    },
    "pycharm": {
     "name": "#%%\n"
    }
   },
   "outputs": [
    {
     "data": {
      "text/plain": [
       "0      26.821875\n",
       "1      28.051667\n",
       "2      19.346667\n",
       "3      18.654687\n",
       "4      18.345313\n",
       "         ...    \n",
       "612    -0.041667\n",
       "614    -1.425000\n",
       "616    -0.175000\n",
       "617    -0.400000\n",
       "618    -0.125000\n",
       "Name: mean points, Length: 557, dtype: float64"
      ]
     },
     "execution_count": 56,
     "metadata": {},
     "output_type": "execute_result"
    }
   ],
   "source": [
    "df[\"mean points\"]"
   ]
  },
  {
   "cell_type": "code",
   "execution_count": 57,
   "metadata": {
    "collapsed": false,
    "jupyter": {
     "outputs_hidden": false
    },
    "pycharm": {
     "name": "#%%\n"
    }
   },
   "outputs": [
    {
     "data": {
      "text/plain": [
       "<matplotlib.axes._subplots.AxesSubplot at 0x21996111408>"
      ]
     },
     "execution_count": 57,
     "metadata": {},
     "output_type": "execute_result"
    },
    {
     "data": {
      "image/png": "[encoded data removed]",
      "text/plain": [
       "<Figure size 432x288 with 1 Axes>"
      ]
     },
     "metadata": {},
     "output_type": "display_data"
    }
   ],
   "source": [
    "sns.boxenplot(df[\"tier\"], df[\"mean points\"])"
   ]
  },
  {
   "cell_type": "code",
   "execution_count": 58,
   "metadata": {
    "collapsed": false,
    "jupyter": {
     "outputs_hidden": false
    },
    "pycharm": {
     "name": "#%%\n"
    }
   },
   "outputs": [],
   "source": [
    "# making sense of the clusters\n",
    "def tier_maker(tier):\n",
    "    if tier == 3:\n",
    "        return 1\n",
    "    elif tier == 1:\n",
    "        return 2\n",
    "    elif tier == 4:\n",
    "        return 3\n",
    "    elif tier == 2:\n",
    "        return 4\n",
    "    else:\n",
    "        return 5"
   ]
  },
  {
   "cell_type": "markdown",
   "metadata": {},
   "source": [
    "The boxplot below shows us the average value of fantasy points earned accross all four sources.  As you can see, tier 1 players (the ones we really want) tend to score roughly between 16-30 points per game."
   ]
  },
  {
   "cell_type": "code",
   "execution_count": 59,
   "metadata": {
    "collapsed": false,
    "jupyter": {
     "outputs_hidden": false
    },
    "pycharm": {
     "name": "#%%\n"
    }
   },
   "outputs": [
    {
     "data": {
      "image/png": "[encoded data removed]",
      "text/plain": [
       "<Figure size 1440x720 with 1 Axes>"
      ]
     },
     "metadata": {},
     "output_type": "display_data"
    }
   ],
   "source": [
    "df[\"tier\"] = df[\"tier\"].apply(tier_maker)\n",
    "plt.figure(figsize=(20,10))\n",
    "sns.boxenplot(df[\"tier\"], df[\"mean points\"])\n",
    "plt.ylabel('Average Fantasy Points per Game')\n",
    "plt.xlabel('Tier')\n",
    "plt.title('Fantasy Points per Game by Tier Group')\n",
    "plt.savefig('plot3.png', dpi=300, bbox_inches='tight')"
   ]
  },
  {
   "cell_type": "markdown",
   "metadata": {},
   "source": [
    "With the tiers clearly outlined, we can begin to view players to draft.  Let's take a look at quarterbacks that fall under the tier one group."
   ]
  },
  {
   "cell_type": "code",
   "execution_count": 60,
   "metadata": {
    "collapsed": false,
    "jupyter": {
     "outputs_hidden": false
    },
    "pycharm": {
     "name": "#%%\n"
    }
   },
   "outputs": [
    {
     "data": {
      "text/html": [
       "<div>\n",
       "<style scoped>\n",
       "    .dataframe tbody tr th:only-of-type {\n",
       "        vertical-align: middle;\n",
       "    }\n",
       "\n",
       "    .dataframe tbody tr th {\n",
       "        vertical-align: top;\n",
       "    }\n",
       "\n",
       "    .dataframe thead th {\n",
       "        text-align: right;\n",
       "    }\n",
       "</style>\n",
       "<table border=\"1\" class=\"dataframe\">\n",
       "  <thead>\n",
       "    <tr style=\"text-align: right;\">\n",
       "      <th></th>\n",
       "      <th>Player</th>\n",
       "      <th>Tm</th>\n",
       "      <th>FantPos</th>\n",
       "      <th>Games G</th>\n",
       "      <th>Fantasy FantPt Per Game</th>\n",
       "      <th>Fantasy PPR Per Game</th>\n",
       "      <th>Fantasy DKPt Per Game</th>\n",
       "      <th>Fantasy FDPt Per Game</th>\n",
       "      <th>tier</th>\n",
       "      <th>mean points</th>\n",
       "    </tr>\n",
       "    <tr>\n",
       "      <th>Rank</th>\n",
       "      <th></th>\n",
       "      <th></th>\n",
       "      <th></th>\n",
       "      <th></th>\n",
       "      <th></th>\n",
       "      <th></th>\n",
       "      <th></th>\n",
       "      <th></th>\n",
       "      <th></th>\n",
       "      <th></th>\n",
       "    </tr>\n",
       "  </thead>\n",
       "  <tbody>\n",
       "    <tr>\n",
       "      <th>0</th>\n",
       "      <td>Lamar Jackson</td>\n",
       "      <td>BAL</td>\n",
       "      <td>QB</td>\n",
       "      <td>15</td>\n",
       "      <td>27.733333</td>\n",
       "      <td>27.713333</td>\n",
       "      <td>28.646667</td>\n",
       "      <td>28.113333</td>\n",
       "      <td>1</td>\n",
       "      <td>28.051667</td>\n",
       "    </tr>\n",
       "    <tr>\n",
       "      <th>1</th>\n",
       "      <td>Deshaun Watson</td>\n",
       "      <td>HOU</td>\n",
       "      <td>QB</td>\n",
       "      <td>15</td>\n",
       "      <td>21.333333</td>\n",
       "      <td>21.400000</td>\n",
       "      <td>22.800000</td>\n",
       "      <td>22.166667</td>\n",
       "      <td>1</td>\n",
       "      <td>21.925000</td>\n",
       "    </tr>\n",
       "    <tr>\n",
       "      <th>2</th>\n",
       "      <td>Dak Prescott</td>\n",
       "      <td>DAL</td>\n",
       "      <td>QB</td>\n",
       "      <td>16</td>\n",
       "      <td>21.125000</td>\n",
       "      <td>21.112500</td>\n",
       "      <td>22.300000</td>\n",
       "      <td>21.800000</td>\n",
       "      <td>1</td>\n",
       "      <td>21.584375</td>\n",
       "    </tr>\n",
       "    <tr>\n",
       "      <th>3</th>\n",
       "      <td>Matthew Stafford</td>\n",
       "      <td>DET</td>\n",
       "      <td>QB</td>\n",
       "      <td>8</td>\n",
       "      <td>20.875000</td>\n",
       "      <td>20.825000</td>\n",
       "      <td>22.200000</td>\n",
       "      <td>21.450000</td>\n",
       "      <td>1</td>\n",
       "      <td>21.337500</td>\n",
       "    </tr>\n",
       "    <tr>\n",
       "      <th>4</th>\n",
       "      <td>Russell Wilson</td>\n",
       "      <td>SEA</td>\n",
       "      <td>QB</td>\n",
       "      <td>16</td>\n",
       "      <td>20.562500</td>\n",
       "      <td>20.537500</td>\n",
       "      <td>21.350000</td>\n",
       "      <td>20.850000</td>\n",
       "      <td>1</td>\n",
       "      <td>20.825000</td>\n",
       "    </tr>\n",
       "    <tr>\n",
       "      <th>5</th>\n",
       "      <td>Patrick Mahomes</td>\n",
       "      <td>KAN</td>\n",
       "      <td>QB</td>\n",
       "      <td>14</td>\n",
       "      <td>20.500000</td>\n",
       "      <td>20.500000</td>\n",
       "      <td>21.428571</td>\n",
       "      <td>20.857143</td>\n",
       "      <td>1</td>\n",
       "      <td>20.821429</td>\n",
       "    </tr>\n",
       "    <tr>\n",
       "      <th>6</th>\n",
       "      <td>Drew Brees</td>\n",
       "      <td>NOR</td>\n",
       "      <td>QB</td>\n",
       "      <td>11</td>\n",
       "      <td>20.454545</td>\n",
       "      <td>20.436364</td>\n",
       "      <td>21.072727</td>\n",
       "      <td>20.800000</td>\n",
       "      <td>1</td>\n",
       "      <td>20.690909</td>\n",
       "    </tr>\n",
       "    <tr>\n",
       "      <th>7</th>\n",
       "      <td>Jeff Driskel</td>\n",
       "      <td>DET</td>\n",
       "      <td>QB</td>\n",
       "      <td>3</td>\n",
       "      <td>19.000000</td>\n",
       "      <td>19.366667</td>\n",
       "      <td>22.700000</td>\n",
       "      <td>20.533333</td>\n",
       "      <td>1</td>\n",
       "      <td>20.400000</td>\n",
       "    </tr>\n",
       "    <tr>\n",
       "      <th>8</th>\n",
       "      <td>Jameis Winston</td>\n",
       "      <td>TAM</td>\n",
       "      <td>QB</td>\n",
       "      <td>16</td>\n",
       "      <td>19.062500</td>\n",
       "      <td>19.087500</td>\n",
       "      <td>21.650000</td>\n",
       "      <td>20.962500</td>\n",
       "      <td>1</td>\n",
       "      <td>20.190625</td>\n",
       "    </tr>\n",
       "    <tr>\n",
       "      <th>9</th>\n",
       "      <td>Ryan Tannehill</td>\n",
       "      <td>TEN</td>\n",
       "      <td>QB</td>\n",
       "      <td>12</td>\n",
       "      <td>18.666667</td>\n",
       "      <td>18.683333</td>\n",
       "      <td>19.933333</td>\n",
       "      <td>19.183333</td>\n",
       "      <td>1</td>\n",
       "      <td>19.116667</td>\n",
       "    </tr>\n",
       "    <tr>\n",
       "      <th>10</th>\n",
       "      <td>Josh Allen</td>\n",
       "      <td>BUF</td>\n",
       "      <td>QB</td>\n",
       "      <td>16</td>\n",
       "      <td>18.062500</td>\n",
       "      <td>18.037500</td>\n",
       "      <td>19.225000</td>\n",
       "      <td>18.600000</td>\n",
       "      <td>1</td>\n",
       "      <td>18.481250</td>\n",
       "    </tr>\n",
       "    <tr>\n",
       "      <th>11</th>\n",
       "      <td>Matt Ryan</td>\n",
       "      <td>ATL</td>\n",
       "      <td>QB</td>\n",
       "      <td>15</td>\n",
       "      <td>17.800000</td>\n",
       "      <td>17.820000</td>\n",
       "      <td>19.486667</td>\n",
       "      <td>18.753333</td>\n",
       "      <td>1</td>\n",
       "      <td>18.465000</td>\n",
       "    </tr>\n",
       "    <tr>\n",
       "      <th>12</th>\n",
       "      <td>Kyler Murray</td>\n",
       "      <td>ARI</td>\n",
       "      <td>QB</td>\n",
       "      <td>16</td>\n",
       "      <td>17.812500</td>\n",
       "      <td>17.831250</td>\n",
       "      <td>19.081250</td>\n",
       "      <td>18.581250</td>\n",
       "      <td>1</td>\n",
       "      <td>18.326562</td>\n",
       "    </tr>\n",
       "    <tr>\n",
       "      <th>13</th>\n",
       "      <td>Aaron Rodgers</td>\n",
       "      <td>GNB</td>\n",
       "      <td>QB</td>\n",
       "      <td>16</td>\n",
       "      <td>17.375000</td>\n",
       "      <td>17.400000</td>\n",
       "      <td>18.275000</td>\n",
       "      <td>17.650000</td>\n",
       "      <td>1</td>\n",
       "      <td>17.675000</td>\n",
       "    </tr>\n",
       "    <tr>\n",
       "      <th>14</th>\n",
       "      <td>Carson Wentz</td>\n",
       "      <td>PHI</td>\n",
       "      <td>QB</td>\n",
       "      <td>16</td>\n",
       "      <td>17.250000</td>\n",
       "      <td>17.243750</td>\n",
       "      <td>18.493750</td>\n",
       "      <td>17.681250</td>\n",
       "      <td>1</td>\n",
       "      <td>17.667187</td>\n",
       "    </tr>\n",
       "    <tr>\n",
       "      <th>15</th>\n",
       "      <td>Daniel Jones</td>\n",
       "      <td>NYG</td>\n",
       "      <td>QB</td>\n",
       "      <td>13</td>\n",
       "      <td>16.538462</td>\n",
       "      <td>16.538462</td>\n",
       "      <td>18.769231</td>\n",
       "      <td>17.461538</td>\n",
       "      <td>1</td>\n",
       "      <td>17.326923</td>\n",
       "    </tr>\n",
       "    <tr>\n",
       "      <th>16</th>\n",
       "      <td>Gardner Minshew II</td>\n",
       "      <td>JAX</td>\n",
       "      <td>QB</td>\n",
       "      <td>14</td>\n",
       "      <td>16.357143</td>\n",
       "      <td>16.371429</td>\n",
       "      <td>17.728571</td>\n",
       "      <td>16.800000</td>\n",
       "      <td>1</td>\n",
       "      <td>16.814286</td>\n",
       "    </tr>\n",
       "    <tr>\n",
       "      <th>17</th>\n",
       "      <td>Tom Brady</td>\n",
       "      <td>NWE</td>\n",
       "      <td>QB</td>\n",
       "      <td>16</td>\n",
       "      <td>16.500000</td>\n",
       "      <td>16.481250</td>\n",
       "      <td>17.231250</td>\n",
       "      <td>16.981250</td>\n",
       "      <td>1</td>\n",
       "      <td>16.798438</td>\n",
       "    </tr>\n",
       "    <tr>\n",
       "      <th>18</th>\n",
       "      <td>Ryan Fitzpatrick</td>\n",
       "      <td>MIA</td>\n",
       "      <td>QB</td>\n",
       "      <td>15</td>\n",
       "      <td>16.066667</td>\n",
       "      <td>16.100000</td>\n",
       "      <td>17.500000</td>\n",
       "      <td>16.966667</td>\n",
       "      <td>1</td>\n",
       "      <td>16.658333</td>\n",
       "    </tr>\n",
       "    <tr>\n",
       "      <th>19</th>\n",
       "      <td>Kirk Cousins</td>\n",
       "      <td>MIN</td>\n",
       "      <td>QB</td>\n",
       "      <td>15</td>\n",
       "      <td>16.266667</td>\n",
       "      <td>16.293333</td>\n",
       "      <td>17.093333</td>\n",
       "      <td>16.693333</td>\n",
       "      <td>1</td>\n",
       "      <td>16.586667</td>\n",
       "    </tr>\n",
       "  </tbody>\n",
       "</table>\n",
       "</div>"
      ],
      "text/plain": [
       "                  Player   Tm FantPos  Games G  Fantasy FantPt Per Game  \\\n",
       "Rank                                                                      \n",
       "0          Lamar Jackson  BAL      QB       15                27.733333   \n",
       "1         Deshaun Watson  HOU      QB       15                21.333333   \n",
       "2           Dak Prescott  DAL      QB       16                21.125000   \n",
       "3       Matthew Stafford  DET      QB        8                20.875000   \n",
       "4         Russell Wilson  SEA      QB       16                20.562500   \n",
       "5        Patrick Mahomes  KAN      QB       14                20.500000   \n",
       "6             Drew Brees  NOR      QB       11                20.454545   \n",
       "7           Jeff Driskel  DET      QB        3                19.000000   \n",
       "8         Jameis Winston  TAM      QB       16                19.062500   \n",
       "9         Ryan Tannehill  TEN      QB       12                18.666667   \n",
       "10            Josh Allen  BUF      QB       16                18.062500   \n",
       "11             Matt Ryan  ATL      QB       15                17.800000   \n",
       "12          Kyler Murray  ARI      QB       16                17.812500   \n",
       "13         Aaron Rodgers  GNB      QB       16                17.375000   \n",
       "14          Carson Wentz  PHI      QB       16                17.250000   \n",
       "15          Daniel Jones  NYG      QB       13                16.538462   \n",
       "16    Gardner Minshew II  JAX      QB       14                16.357143   \n",
       "17             Tom Brady  NWE      QB       16                16.500000   \n",
       "18      Ryan Fitzpatrick  MIA      QB       15                16.066667   \n",
       "19          Kirk Cousins  MIN      QB       15                16.266667   \n",
       "\n",
       "      Fantasy PPR Per Game  Fantasy DKPt Per Game  Fantasy FDPt Per Game  \\\n",
       "Rank                                                                       \n",
       "0                27.713333              28.646667              28.113333   \n",
       "1                21.400000              22.800000              22.166667   \n",
       "2                21.112500              22.300000              21.800000   \n",
       "3                20.825000              22.200000              21.450000   \n",
       "4                20.537500              21.350000              20.850000   \n",
       "5                20.500000              21.428571              20.857143   \n",
       "6                20.436364              21.072727              20.800000   \n",
       "7                19.366667              22.700000              20.533333   \n",
       "8                19.087500              21.650000              20.962500   \n",
       "9                18.683333              19.933333              19.183333   \n",
       "10               18.037500              19.225000              18.600000   \n",
       "11               17.820000              19.486667              18.753333   \n",
       "12               17.831250              19.081250              18.581250   \n",
       "13               17.400000              18.275000              17.650000   \n",
       "14               17.243750              18.493750              17.681250   \n",
       "15               16.538462              18.769231              17.461538   \n",
       "16               16.371429              17.728571              16.800000   \n",
       "17               16.481250              17.231250              16.981250   \n",
       "18               16.100000              17.500000              16.966667   \n",
       "19               16.293333              17.093333              16.693333   \n",
       "\n",
       "      tier  mean points  \n",
       "Rank                     \n",
       "0        1    28.051667  \n",
       "1        1    21.925000  \n",
       "2        1    21.584375  \n",
       "3        1    21.337500  \n",
       "4        1    20.825000  \n",
       "5        1    20.821429  \n",
       "6        1    20.690909  \n",
       "7        1    20.400000  \n",
       "8        1    20.190625  \n",
       "9        1    19.116667  \n",
       "10       1    18.481250  \n",
       "11       1    18.465000  \n",
       "12       1    18.326562  \n",
       "13       1    17.675000  \n",
       "14       1    17.667187  \n",
       "15       1    17.326923  \n",
       "16       1    16.814286  \n",
       "17       1    16.798438  \n",
       "18       1    16.658333  \n",
       "19       1    16.586667  "
      ]
     },
     "execution_count": 60,
     "metadata": {},
     "output_type": "execute_result"
    }
   ],
   "source": [
    "qbs = df.query('FantPos == \"QB\" and tier == 1').sort_values('mean points', ascending=False).reset_index().drop('index', axis=1)\n",
    "qbs.index.name = \"Rank\"\n",
    "qbs"
   ]
  },
  {
   "cell_type": "markdown",
   "metadata": {
    "pycharm": {
     "name": "#%% md\n"
    }
   },
   "source": [
    "Being a fan of football, I can tell you that players like Lamar Jackson, Russell Wilson, and Aaron Rodgers are very good at what they do, which tells me that our algorithm did what it's supposed to do: assign players to tiered performance groups.\n",
    "\n",
    "The results of the table above show an interesting finding.  Notice at the tail of the data frame, we have two quarterbacks from the Detroit Lyons, Stafford and Driskel.  Normally, quarterbacks such as Driskel would be overlooked, but with our model, we see that he isn't too shabby.  This could be useful information later on in the season if my main QB get's injured or all of the good ones are taken (given that the backup QB is actually playing that week)."
   ]
  },
  {
   "cell_type": "markdown",
   "metadata": {},
   "source": [
    "### Final Thoughts"
   ]
  },
  {
   "cell_type": "markdown",
   "metadata": {},
   "source": [
    "Finding Jeff Driskel in our tier one group is exactly why I wanted to conduct this project.  Back-up quarterbacks are very commonly not taken, but we know now that if Stafford is injured (hopefully not), we would have a pretty solid mid-season pick in Driskel.  He's almost gurenteed to be available throughout the season given his role in the NFL. \n",
    "\n",
    "Another benefit of this model is that it will make draft time less stressful.  Since the K-means algorithm succesfully classified high-performance players, I'll be better armed to build up my roster.  I won't have to panic if someone takes Lamar Jackson right away, because players in his tier performed very similar throughout the course of 2019 season, meaning that I'll still get a great player.\n",
    "\n",
    "Thank you very much for reading my first Medium post.  Please leave any feedback so I can be a better data scientist and fantasy football player."
   ]
  },
  {
   "cell_type": "markdown",
   "metadata": {},
   "source": [
    "### References\n",
    "\n",
    "- https://towardsdatascience.com/understanding-k-means-clustering-in-machine-learning-6a6e67336aa1\n",
    "- https://www.datanovia.com/en/lessons/determining-the-optimal-number-of-clusters-3-must-know-methods/\n",
    "- https://www.pro-football-reference.com/fantasy/index.htm\n",
    "- https://medium.com/dunder-data/jupyter-to-medium-initial-post-ecd140d339f0"
   ]
  },
  {
   "cell_type": "code",
   "execution_count": null,
   "metadata": {},
   "outputs": [],
   "source": []
  }
 ],
 "metadata": {
  "kernelspec": {
   "display_name": "PyCharm (fantasy_football)",
   "language": "python",
   "name": "pycharm-176b40fe"
  },
  "language_info": {
   "codemirror_mode": {
    "name": "ipython",
    "version": 3
   },
   "file_extension": ".py",
   "mimetype": "text/x-python",
   "name": "python",
   "nbconvert_exporter": "python",
   "pygments_lexer": "ipython3",
   "version": "3.7.7"
  },
  "pycharm": {
   "stem_cell": {
    "cell_type": "raw",
    "metadata": {
     "collapsed": false
    },
    "source": [
     "\n"
    ]
   }
  }
 },
 "nbformat": 4,
 "nbformat_minor": 4
}
