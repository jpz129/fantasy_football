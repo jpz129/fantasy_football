{
 "cells": [
  {
   "cell_type": "markdown",
   "metadata": {},
   "source": [
    "# NEED TO FIND WAY TO DEAL WITH MISSING VALUES AND I NEED TO VISUALIZE KMEANS RESULTS"
   ]
  },
  {
   "cell_type": "code",
   "execution_count": 1,
   "metadata": {},
   "outputs": [],
   "source": [
    "import pandas as pd"
   ]
  },
  {
   "cell_type": "code",
   "execution_count": 2,
   "metadata": {},
   "outputs": [],
   "source": [
    "df = pd.read_csv(\"fant_2019.csv\")"
   ]
  },
  {
   "cell_type": "code",
   "execution_count": 3,
   "metadata": {},
   "outputs": [
    {
     "data": {
      "text/html": [
       "<div>\n",
       "<style scoped>\n",
       "    .dataframe tbody tr th:only-of-type {\n",
       "        vertical-align: middle;\n",
       "    }\n",
       "\n",
       "    .dataframe tbody tr th {\n",
       "        vertical-align: top;\n",
       "    }\n",
       "\n",
       "    .dataframe thead th {\n",
       "        text-align: right;\n",
       "    }\n",
       "</style>\n",
       "<table border=\"1\" class=\"dataframe\">\n",
       "  <thead>\n",
       "    <tr style=\"text-align: right;\">\n",
       "      <th></th>\n",
       "      <th>Rk</th>\n",
       "      <th>Player</th>\n",
       "      <th>Tm</th>\n",
       "      <th>FantPos</th>\n",
       "      <th>Age</th>\n",
       "      <th>G</th>\n",
       "      <th>GS</th>\n",
       "      <th>Cmp</th>\n",
       "      <th>Att</th>\n",
       "      <th>Yds</th>\n",
       "      <th>...</th>\n",
       "      <th>TD.3</th>\n",
       "      <th>2PM</th>\n",
       "      <th>2PP</th>\n",
       "      <th>FantPt</th>\n",
       "      <th>PPR</th>\n",
       "      <th>DKPt</th>\n",
       "      <th>FDPt</th>\n",
       "      <th>VBD</th>\n",
       "      <th>PosRank</th>\n",
       "      <th>OvRank</th>\n",
       "    </tr>\n",
       "  </thead>\n",
       "  <tbody>\n",
       "    <tr>\n",
       "      <th>0</th>\n",
       "      <td>1</td>\n",
       "      <td>Christian McCaffrey *+\\McCaCh01</td>\n",
       "      <td>CAR</td>\n",
       "      <td>RB</td>\n",
       "      <td>23</td>\n",
       "      <td>16</td>\n",
       "      <td>16</td>\n",
       "      <td>0</td>\n",
       "      <td>2</td>\n",
       "      <td>0</td>\n",
       "      <td>...</td>\n",
       "      <td>19</td>\n",
       "      <td>1.0</td>\n",
       "      <td>NaN</td>\n",
       "      <td>355.0</td>\n",
       "      <td>471.2</td>\n",
       "      <td>477.2</td>\n",
       "      <td>413.2</td>\n",
       "      <td>215.0</td>\n",
       "      <td>1</td>\n",
       "      <td>1.0</td>\n",
       "    </tr>\n",
       "    <tr>\n",
       "      <th>1</th>\n",
       "      <td>2</td>\n",
       "      <td>Lamar Jackson*+\\JackLa00</td>\n",
       "      <td>BAL</td>\n",
       "      <td>QB</td>\n",
       "      <td>22</td>\n",
       "      <td>15</td>\n",
       "      <td>15</td>\n",
       "      <td>265</td>\n",
       "      <td>401</td>\n",
       "      <td>3127</td>\n",
       "      <td>...</td>\n",
       "      <td>7</td>\n",
       "      <td>NaN</td>\n",
       "      <td>NaN</td>\n",
       "      <td>416.0</td>\n",
       "      <td>415.7</td>\n",
       "      <td>429.7</td>\n",
       "      <td>421.7</td>\n",
       "      <td>152.0</td>\n",
       "      <td>1</td>\n",
       "      <td>2.0</td>\n",
       "    </tr>\n",
       "    <tr>\n",
       "      <th>2</th>\n",
       "      <td>3</td>\n",
       "      <td>Derrick Henry *\\HenrDe00</td>\n",
       "      <td>TEN</td>\n",
       "      <td>RB</td>\n",
       "      <td>25</td>\n",
       "      <td>15</td>\n",
       "      <td>15</td>\n",
       "      <td>0</td>\n",
       "      <td>0</td>\n",
       "      <td>0</td>\n",
       "      <td>...</td>\n",
       "      <td>18</td>\n",
       "      <td>NaN</td>\n",
       "      <td>NaN</td>\n",
       "      <td>277.0</td>\n",
       "      <td>294.6</td>\n",
       "      <td>303.6</td>\n",
       "      <td>285.6</td>\n",
       "      <td>136.0</td>\n",
       "      <td>2</td>\n",
       "      <td>3.0</td>\n",
       "    </tr>\n",
       "    <tr>\n",
       "      <th>3</th>\n",
       "      <td>4</td>\n",
       "      <td>Aaron Jones\\JoneAa00</td>\n",
       "      <td>GNB</td>\n",
       "      <td>RB</td>\n",
       "      <td>25</td>\n",
       "      <td>16</td>\n",
       "      <td>16</td>\n",
       "      <td>0</td>\n",
       "      <td>0</td>\n",
       "      <td>0</td>\n",
       "      <td>...</td>\n",
       "      <td>19</td>\n",
       "      <td>NaN</td>\n",
       "      <td>NaN</td>\n",
       "      <td>266.0</td>\n",
       "      <td>314.8</td>\n",
       "      <td>322.8</td>\n",
       "      <td>290.3</td>\n",
       "      <td>125.0</td>\n",
       "      <td>3</td>\n",
       "      <td>4.0</td>\n",
       "    </tr>\n",
       "    <tr>\n",
       "      <th>4</th>\n",
       "      <td>5</td>\n",
       "      <td>Ezekiel Elliott*\\ElliEz00</td>\n",
       "      <td>DAL</td>\n",
       "      <td>RB</td>\n",
       "      <td>24</td>\n",
       "      <td>16</td>\n",
       "      <td>16</td>\n",
       "      <td>0</td>\n",
       "      <td>0</td>\n",
       "      <td>0</td>\n",
       "      <td>...</td>\n",
       "      <td>14</td>\n",
       "      <td>NaN</td>\n",
       "      <td>NaN</td>\n",
       "      <td>258.0</td>\n",
       "      <td>311.7</td>\n",
       "      <td>319.7</td>\n",
       "      <td>284.7</td>\n",
       "      <td>117.0</td>\n",
       "      <td>4</td>\n",
       "      <td>5.0</td>\n",
       "    </tr>\n",
       "  </tbody>\n",
       "</table>\n",
       "<p>5 rows × 33 columns</p>\n",
       "</div>"
      ],
      "text/plain": [
       "   Rk                           Player   Tm FantPos  Age   G  GS  Cmp  Att  \\\n",
       "0   1  Christian McCaffrey *+\\McCaCh01  CAR      RB   23  16  16    0    2   \n",
       "1   2         Lamar Jackson*+\\JackLa00  BAL      QB   22  15  15  265  401   \n",
       "2   3         Derrick Henry *\\HenrDe00  TEN      RB   25  15  15    0    0   \n",
       "3   4             Aaron Jones\\JoneAa00  GNB      RB   25  16  16    0    0   \n",
       "4   5        Ezekiel Elliott*\\ElliEz00  DAL      RB   24  16  16    0    0   \n",
       "\n",
       "    Yds  ...  TD.3  2PM  2PP  FantPt    PPR   DKPt   FDPt    VBD  PosRank  \\\n",
       "0     0  ...    19  1.0  NaN   355.0  471.2  477.2  413.2  215.0        1   \n",
       "1  3127  ...     7  NaN  NaN   416.0  415.7  429.7  421.7  152.0        1   \n",
       "2     0  ...    18  NaN  NaN   277.0  294.6  303.6  285.6  136.0        2   \n",
       "3     0  ...    19  NaN  NaN   266.0  314.8  322.8  290.3  125.0        3   \n",
       "4     0  ...    14  NaN  NaN   258.0  311.7  319.7  284.7  117.0        4   \n",
       "\n",
       "   OvRank  \n",
       "0     1.0  \n",
       "1     2.0  \n",
       "2     3.0  \n",
       "3     4.0  \n",
       "4     5.0  \n",
       "\n",
       "[5 rows x 33 columns]"
      ]
     },
     "execution_count": 3,
     "metadata": {},
     "output_type": "execute_result"
    }
   ],
   "source": [
    "df.head()"
   ]
  },
  {
   "cell_type": "code",
   "execution_count": 4,
   "metadata": {},
   "outputs": [],
   "source": [
    "cols = [\"Player\", \"Tm\", \"FantPos\", \"FantPt\", \"PPR\", \"DKPt\", \"FDPt\", \"VBD\"]\n",
    "df = df[cols]"
   ]
  },
  {
   "cell_type": "code",
   "execution_count": 5,
   "metadata": {},
   "outputs": [],
   "source": [
    "df[\"VBD\"] = pd.to_numeric(df[\"VBD\"], errors=\"coerce\")\n",
    "df[\"FDPt\"] = pd.to_numeric(df[\"FDPt\"], errors=\"coerce\")\n",
    "df[\"DKPt\"] = pd.to_numeric(df[\"DKPt\"], errors=\"coerce\")\n",
    "df[\"PPR\"] = pd.to_numeric(df[\"PPR\"], errors=\"coerce\")\n",
    "df[\"FantPt\"] = pd.to_numeric(df[\"FantPt\"], errors=\"coerce\")\n",
    "df = df.dropna()"
   ]
  },
  {
   "cell_type": "code",
   "execution_count": 6,
   "metadata": {},
   "outputs": [],
   "source": [
    "from sklearn.cluster import KMeans"
   ]
  },
  {
   "cell_type": "code",
   "execution_count": 7,
   "metadata": {},
   "outputs": [],
   "source": [
    "kmeans = KMeans(n_clusters=8, random_state=1)"
   ]
  },
  {
   "cell_type": "code",
   "execution_count": 9,
   "metadata": {},
   "outputs": [
    {
     "data": {
      "text/plain": [
       "KMeans(random_state=1)"
      ]
     },
     "execution_count": 9,
     "metadata": {},
     "output_type": "execute_result"
    }
   ],
   "source": [
    "kmeans.fit(df.drop([\"Player\", \"Tm\", \"FantPos\"], axis=1))"
   ]
  },
  {
   "cell_type": "code",
   "execution_count": 10,
   "metadata": {},
   "outputs": [
    {
     "data": {
      "text/plain": [
       "array([[179.63157895, 251.78947368, 256.94736842, 215.73684211,\n",
       "         48.36842105],\n",
       "       [323.        , 323.2       , 346.7       , 337.575     ,\n",
       "         59.25      ],\n",
       "       [137.27272727, 180.86363636, 185.31818182, 159.09090909,\n",
       "         13.72727273],\n",
       "       [385.5       , 443.45      , 453.45      , 417.45      ,\n",
       "        183.5       ],\n",
       "       [149.63636364, 218.98636364, 223.44090909, 184.25909091,\n",
       "         27.36363636],\n",
       "       [280.33333333, 280.41666667, 298.91666667, 288.91666667,\n",
       "         16.83333333],\n",
       "       [247.16666667, 316.18333333, 323.51666667, 281.6       ,\n",
       "        108.33333333],\n",
       "       [ 89.5       , 147.825     , 151.825     , 118.7       ,\n",
       "         12.75      ]])"
      ]
     },
     "execution_count": 10,
     "metadata": {},
     "output_type": "execute_result"
    }
   ],
   "source": [
    "kmeans.cluster_centers_"
   ]
  },
  {
   "cell_type": "code",
   "execution_count": 11,
   "metadata": {},
   "outputs": [],
   "source": [
    "df[\"tier\"] = kmeans.labels_"
   ]
  },
  {
   "cell_type": "code",
   "execution_count": 12,
   "metadata": {},
   "outputs": [
    {
     "data": {
      "text/html": [
       "<div>\n",
       "<style scoped>\n",
       "    .dataframe tbody tr th:only-of-type {\n",
       "        vertical-align: middle;\n",
       "    }\n",
       "\n",
       "    .dataframe tbody tr th {\n",
       "        vertical-align: top;\n",
       "    }\n",
       "\n",
       "    .dataframe thead th {\n",
       "        text-align: right;\n",
       "    }\n",
       "</style>\n",
       "<table border=\"1\" class=\"dataframe\">\n",
       "  <thead>\n",
       "    <tr style=\"text-align: right;\">\n",
       "      <th></th>\n",
       "      <th>Player</th>\n",
       "      <th>Tm</th>\n",
       "      <th>FantPos</th>\n",
       "      <th>FantPt</th>\n",
       "      <th>PPR</th>\n",
       "      <th>DKPt</th>\n",
       "      <th>FDPt</th>\n",
       "      <th>VBD</th>\n",
       "      <th>tier</th>\n",
       "    </tr>\n",
       "  </thead>\n",
       "  <tbody>\n",
       "    <tr>\n",
       "      <th>0</th>\n",
       "      <td>Christian McCaffrey *+\\McCaCh01</td>\n",
       "      <td>CAR</td>\n",
       "      <td>RB</td>\n",
       "      <td>355.0</td>\n",
       "      <td>471.2</td>\n",
       "      <td>477.2</td>\n",
       "      <td>413.2</td>\n",
       "      <td>215.0</td>\n",
       "      <td>3</td>\n",
       "    </tr>\n",
       "    <tr>\n",
       "      <th>1</th>\n",
       "      <td>Lamar Jackson*+\\JackLa00</td>\n",
       "      <td>BAL</td>\n",
       "      <td>QB</td>\n",
       "      <td>416.0</td>\n",
       "      <td>415.7</td>\n",
       "      <td>429.7</td>\n",
       "      <td>421.7</td>\n",
       "      <td>152.0</td>\n",
       "      <td>3</td>\n",
       "    </tr>\n",
       "    <tr>\n",
       "      <th>2</th>\n",
       "      <td>Derrick Henry *\\HenrDe00</td>\n",
       "      <td>TEN</td>\n",
       "      <td>RB</td>\n",
       "      <td>277.0</td>\n",
       "      <td>294.6</td>\n",
       "      <td>303.6</td>\n",
       "      <td>285.6</td>\n",
       "      <td>136.0</td>\n",
       "      <td>6</td>\n",
       "    </tr>\n",
       "    <tr>\n",
       "      <th>3</th>\n",
       "      <td>Aaron Jones\\JoneAa00</td>\n",
       "      <td>GNB</td>\n",
       "      <td>RB</td>\n",
       "      <td>266.0</td>\n",
       "      <td>314.8</td>\n",
       "      <td>322.8</td>\n",
       "      <td>290.3</td>\n",
       "      <td>125.0</td>\n",
       "      <td>6</td>\n",
       "    </tr>\n",
       "    <tr>\n",
       "      <th>4</th>\n",
       "      <td>Ezekiel Elliott*\\ElliEz00</td>\n",
       "      <td>DAL</td>\n",
       "      <td>RB</td>\n",
       "      <td>258.0</td>\n",
       "      <td>311.7</td>\n",
       "      <td>319.7</td>\n",
       "      <td>284.7</td>\n",
       "      <td>117.0</td>\n",
       "      <td>6</td>\n",
       "    </tr>\n",
       "  </tbody>\n",
       "</table>\n",
       "</div>"
      ],
      "text/plain": [
       "                            Player   Tm FantPos  FantPt    PPR   DKPt   FDPt  \\\n",
       "0  Christian McCaffrey *+\\McCaCh01  CAR      RB   355.0  471.2  477.2  413.2   \n",
       "1         Lamar Jackson*+\\JackLa00  BAL      QB   416.0  415.7  429.7  421.7   \n",
       "2         Derrick Henry *\\HenrDe00  TEN      RB   277.0  294.6  303.6  285.6   \n",
       "3             Aaron Jones\\JoneAa00  GNB      RB   266.0  314.8  322.8  290.3   \n",
       "4        Ezekiel Elliott*\\ElliEz00  DAL      RB   258.0  311.7  319.7  284.7   \n",
       "\n",
       "     VBD  tier  \n",
       "0  215.0     3  \n",
       "1  152.0     3  \n",
       "2  136.0     6  \n",
       "3  125.0     6  \n",
       "4  117.0     6  "
      ]
     },
     "execution_count": 12,
     "metadata": {},
     "output_type": "execute_result"
    }
   ],
   "source": [
    "df.head()"
   ]
  },
  {
   "cell_type": "code",
   "execution_count": 13,
   "metadata": {},
   "outputs": [],
   "source": [
    "import matplotlib.pyplot as plt\n",
    "import seaborn as sns\n",
    "%matplotlib inline"
   ]
  },
  {
   "cell_type": "code",
   "execution_count": 16,
   "metadata": {},
   "outputs": [
    {
     "name": "stdout",
     "output_type": "stream",
     "text": [
      "<class 'pandas.core.frame.DataFrame'>\n",
      "Int64Index: 74 entries, 0 to 73\n",
      "Data columns (total 9 columns):\n",
      " #   Column   Non-Null Count  Dtype  \n",
      "---  ------   --------------  -----  \n",
      " 0   Player   74 non-null     object \n",
      " 1   Tm       74 non-null     object \n",
      " 2   FantPos  74 non-null     object \n",
      " 3   FantPt   74 non-null     float64\n",
      " 4   PPR      74 non-null     float64\n",
      " 5   DKPt     74 non-null     float64\n",
      " 6   FDPt     74 non-null     float64\n",
      " 7   VBD      74 non-null     float64\n",
      " 8   tier     74 non-null     int32  \n",
      "dtypes: float64(5), int32(1), object(3)\n",
      "memory usage: 5.5+ KB\n"
     ]
    }
   ],
   "source": [
    "df.info()"
   ]
  },
  {
   "cell_type": "code",
   "execution_count": null,
   "metadata": {},
   "outputs": [],
   "source": []
  }
 ],
 "metadata": {
  "kernelspec": {
   "display_name": "Python 3",
   "language": "python",
   "name": "python3"
  },
  "language_info": {
   "codemirror_mode": {
    "name": "ipython",
    "version": 3
   },
   "file_extension": ".py",
   "mimetype": "text/x-python",
   "name": "python",
   "nbconvert_exporter": "python",
   "pygments_lexer": "ipython3",
   "version": "3.7.7"
  }
 },
 "nbformat": 4,
 "nbformat_minor": 4
}
